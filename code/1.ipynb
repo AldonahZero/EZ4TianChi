{
 "cells": [
  {
   "cell_type": "code",
   "execution_count": 1,
   "metadata": {
    "ExecuteTime": {
     "end_time": "2021-02-01T06:13:12.370077Z",
     "start_time": "2021-02-01T06:13:11.331526Z"
    }
   },
   "outputs": [
    {
     "ename": "ModuleNotFoundError",
     "evalue": "No module named 'numba'",
     "output_type": "error",
     "traceback": [
      "\u001b[0;31m---------------------------------------------------------------------------\u001b[0m",
      "\u001b[0;31mModuleNotFoundError\u001b[0m                       Traceback (most recent call last)",
      "\u001b[0;32m<ipython-input-1-286b986944e0>\u001b[0m in \u001b[0;36m<module>\u001b[0;34m\u001b[0m\n\u001b[1;32m      2\u001b[0m \u001b[0;32mimport\u001b[0m \u001b[0mpandas\u001b[0m \u001b[0;32mas\u001b[0m \u001b[0mpd\u001b[0m\u001b[0;34m\u001b[0m\u001b[0;34m\u001b[0m\u001b[0m\n\u001b[1;32m      3\u001b[0m \u001b[0;32mimport\u001b[0m \u001b[0mpathlib\u001b[0m\u001b[0;34m,\u001b[0m \u001b[0msys\u001b[0m\u001b[0;34m,\u001b[0m \u001b[0mos\u001b[0m\u001b[0;34m,\u001b[0m \u001b[0mrandom\u001b[0m\u001b[0;34m,\u001b[0m \u001b[0mtime\u001b[0m\u001b[0;34m\u001b[0m\u001b[0;34m\u001b[0m\u001b[0m\n\u001b[0;32m----> 4\u001b[0;31m \u001b[0;32mimport\u001b[0m \u001b[0mnumba\u001b[0m\u001b[0;34m,\u001b[0m \u001b[0mcv2\u001b[0m\u001b[0;34m,\u001b[0m \u001b[0mgc\u001b[0m\u001b[0;34m\u001b[0m\u001b[0;34m\u001b[0m\u001b[0m\n\u001b[0m\u001b[1;32m      5\u001b[0m \u001b[0;32mfrom\u001b[0m \u001b[0mtqdm\u001b[0m \u001b[0;32mimport\u001b[0m \u001b[0mtqdm_notebook\u001b[0m\u001b[0;34m\u001b[0m\u001b[0;34m\u001b[0m\u001b[0m\n\u001b[1;32m      6\u001b[0m \u001b[0;34m\u001b[0m\u001b[0m\n",
      "\u001b[0;31mModuleNotFoundError\u001b[0m: No module named 'numba'"
     ]
    }
   ],
   "source": [
    "import numpy as np\n",
    "import pandas as pd\n",
    "import pathlib, sys, os, random, time\n",
    "import numba, cv2, gc\n",
    "from tqdm import tqdm_notebook\n",
    "\n",
    "import matplotlib.pyplot as plt\n",
    "%matplotlib inline\n",
    "\n",
    "import warnings\n",
    "warnings.filterwarnings('ignore')\n",
    "\n",
    "from tqdm.notebook import tqdm\n",
    "\n",
    "import albumentations as A"
   ]
  },
  {
   "cell_type": "code",
   "execution_count": null,
   "metadata": {
    "ExecuteTime": {
     "end_time": "2021-02-01T06:13:12.850214Z",
     "start_time": "2021-02-01T06:13:12.372205Z"
    }
   },
   "outputs": [],
   "source": [
    "import torch\n",
    "import torch.nn as nn\n",
    "import torch.nn.functional as F\n",
    "import torch.utils.data as D\n",
    "torch.backends.cudnn.enabled = True\n",
    "\n",
    "import torchvision\n",
    "from torchvision import transforms as T"
   ]
  },
  {
   "cell_type": "code",
   "execution_count": null,
   "metadata": {
    "ExecuteTime": {
     "end_time": "2021-02-01T06:13:13.171072Z",
     "start_time": "2021-02-01T06:13:13.139684Z"
    }
   },
   "outputs": [],
   "source": [
    "EPOCHES = 20\n",
    "BATCH_SIZE = 16\n",
    "IMAGE_SIZE = 256\n",
    "DEVICE = 'cuda:1' if torch.cuda.is_available() else 'cpu' \n",
    "\n",
    "trfm = A.Compose([\n",
    "    A.Resize(IMAGE_SIZE, IMAGE_SIZE),\n",
    "    A.HorizontalFlip(p=0.5),\n",
    "    A.VerticalFlip(p=0.5),\n",
    "    A.RandomRotate90(),\n",
    "])\n"
   ]
  },
  {
   "cell_type": "code",
   "execution_count": null,
   "metadata": {
    "ExecuteTime": {
     "end_time": "2021-02-01T06:14:15.237531Z",
     "start_time": "2021-02-01T06:14:15.230606Z"
    }
   },
   "outputs": [],
   "source": [
    "class TianChiDataset(D.Dataset):\n",
    "    def __init__(self, paths, transform, test_mode=False):\n",
    "        self.paths = paths\n",
    "        self.transform = transform\n",
    "        self.test_mode = test_mode\n",
    "        \n",
    "        self.len = len(paths)\n",
    "        self.as_tensor = T.Compose([\n",
    "            T.ToPILImage(),\n",
    "            T.Resize(IMAGE_SIZE),\n",
    "#             T.ToTensor(),\n",
    "#             T.Normalize([0.625, 0.448, 0.688],\n",
    "#                         [0.131, 0.177, 0.101]),\n",
    "        ])\n",
    "        \n",
    "    # get data operation\n",
    "    def __getitem__(self, index):\n",
    "        img = cv2.imread(self.paths[index])\n",
    "        img = cv2.cvtColor(img, cv2.COLOR_BGR2RGB)\n",
    "        if not self.test_mode:\n",
    "            mask = cv2.imread(self.paths[index].replace('.tif', '.png')) - 1\n",
    "            mask = cv2.resize(mask, (IMAGE_SIZE, IMAGE_SIZE))\n",
    "            augments = self.transform(image=img, mask=mask)\n",
    "            return self.as_tensor(augments['image']), augments['mask'][:, :, 0].astype(np.int64)\n",
    "        else:\n",
    "            return self.as_tensor(img), ''        \n",
    "    \n",
    "    def __len__(self):\n",
    "        \"\"\"\n",
    "        Total number of samples in the dataset\n",
    "        \"\"\"\n",
    "        return self.len"
   ]
  },
  {
   "cell_type": "code",
   "execution_count": null,
   "metadata": {
    "ExecuteTime": {
     "end_time": "2021-02-01T06:14:15.875884Z",
     "start_time": "2021-02-01T06:14:15.828153Z"
    }
   },
   "outputs": [],
   "source": [
    "import glob\n",
    "dataset = TianChiDataset(\n",
    "    glob.glob('./suichang_round1_train_210120/*.tif'),\n",
    "    trfm, False\n",
    ")"
   ]
  },
  {
   "cell_type": "code",
   "execution_count": null,
   "metadata": {
    "ExecuteTime": {
     "end_time": "2021-02-01T06:14:34.279188Z",
     "start_time": "2021-02-01T06:14:33.826114Z"
    }
   },
   "outputs": [],
   "source": [
    "image, mask = dataset[150]\n",
    "plt.figure(figsize=(16,8))\n",
    "plt.subplot(121)\n",
    "plt.imshow(mask, cmap='gray')\n",
    "plt.subplot(122)\n",
    "plt.imshow(image);\n"
   ]
  },
  {
   "cell_type": "code",
   "execution_count": null,
   "metadata": {
    "ExecuteTime": {
     "end_time": "2021-01-30T00:49:06.561682Z",
     "start_time": "2021-01-30T00:49:06.555906Z"
    }
   },
   "outputs": [],
   "source": [
    "def get_model():\n",
    "    model = torchvision.models.segmentation.fcn_resnet50(True)\n",
    "    \n",
    "#     pth = torch.load(\"../input/pretrain-coco-weights-pytorch/fcn_resnet50_coco-1167a1af.pth\")\n",
    "#     for key in [\"aux_classifier.0.weight\", \"aux_classifier.1.weight\", \"aux_classifier.1.bias\", \"aux_classifier.1.running_mean\", \"aux_classifier.1.running_var\", \"aux_classifier.1.num_batches_tracked\", \"aux_classifier.4.weight\", \"aux_classifier.4.bias\"]:\n",
    "#         del pth[key]\n",
    "    \n",
    "    model.classifier[4] = nn.Conv2d(512, 10, kernel_size=(1, 1), stride=(1, 1))\n",
    "    return model\n",
    "\n",
    "@torch.no_grad()\n",
    "def validation(model, loader, loss_fn):\n",
    "    val_iou = []\n",
    "    model.eval()\n",
    "    for image, target in loader:\n",
    "        image, target = image.to(DEVICE), target.to(DEVICE)\n",
    "        output = model(image)\n",
    "        output = output.argmax(1)\n",
    "        iou = np_iou(output, target)\n",
    "        val_iou.append(iou)\n",
    "        \n",
    "    return val_iou\n",
    "\n",
    "\n",
    "def np_iou(pred, mask, c=10):\n",
    "    iou_result = []\n",
    "    for idx in range(c):\n",
    "        p = (mask == idx).int().reshape(-1)\n",
    "        t = (pred == idx).int().reshape(-1)\n",
    "\n",
    "        uion = p.sum() + t.sum()\n",
    "        overlap = (p*t).sum()\n",
    "        \n",
    "        # print(idx, uion, overlap)\n",
    "        \n",
    "        iou = 2*overlap/(p.sum() + t.sum() +0.001)\n",
    "        iou_result.append(iou.abs().data.cpu().numpy())\n",
    "    return np.stack(iou_result)"
   ]
  },
  {
   "cell_type": "code",
   "execution_count": null,
   "metadata": {
    "ExecuteTime": {
     "start_time": "2021-01-29T16:10:14.120Z"
    },
    "scrolled": true
   },
   "outputs": [],
   "source": [
    "header = r'''\n",
    "        Train | Valid\n",
    "Epoch |  Loss |  Loss | Time, m\n",
    "'''\n",
    "#          Epoch         metrics            time\n",
    "raw_line = '{:6d}' + '\\u2502{:7.3f}'*2 + '\\u2502{:6.2f}'\n",
    "print(header)\n",
    "class_name = ['farm','land','forest','grass','road','urban_area',\n",
    "                 'countryside','industrial_land','construction',\n",
    "                 'water', 'bareland']\n",
    "print('  '.join(class_name))\n",
    "\n",
    "valid_idx, train_idx = [], []\n",
    "\n",
    "for fold_idx in range(5):\n",
    "    for i in range(len(dataset)):\n",
    "        if i % fold_idx == 0:\n",
    "            valid_idx.append(i)\n",
    "        else:\n",
    "    #     elif i % 7 == 1:\n",
    "            train_idx.append(i)\n",
    "\n",
    "    train_ds = D.Subset(dataset, train_idx)\n",
    "    valid_ds = D.Subset(dataset, valid_idx)\n",
    "\n",
    "    # define training and validation data loaders\n",
    "    loader = D.DataLoader(\n",
    "        train_ds, batch_size=BATCH_SIZE, shuffle=True, num_workers=4)\n",
    "\n",
    "    vloader = D.DataLoader(\n",
    "        valid_ds, batch_size=BATCH_SIZE, shuffle=False, num_workers=4)\n",
    "\n",
    "    import segmentation_models_pytorch as smp\n",
    "    model = smp.Unet(\n",
    "            encoder_name=\"resnet50\",        # choose encoder, e.g. mobilenet_v2 or efficientnet-b7\n",
    "            encoder_weights=\"imagenet\",     # use `imagenet` pretreined weights for encoder initialization\n",
    "            in_channels=3,                  # model input channels (1 for grayscale images, 3 for RGB, etc.)\n",
    "            classes=10,                      # model output channels (number of classes in your dataset)\n",
    "    )\n",
    "    model.to(DEVICE);\n",
    "    optimizer = torch.optim.AdamW(model.parameters(),\n",
    "                      lr=1e-4, weight_decay=1e-3)\n",
    "    loss_fn = nn.CrossEntropyLoss().to(DEVICE);\n",
    "    \n",
    "    best_iou = 0\n",
    "    for epoch in range(1, EPOCHES+1):\n",
    "        losses = []\n",
    "        start_time = time.time()\n",
    "        model.train()\n",
    "        model.to(DEVICE);\n",
    "        for image, target in tqdm_notebook(loader):\n",
    "\n",
    "            image, target = image.to(DEVICE), target.to(DEVICE)\n",
    "            optimizer.zero_grad()\n",
    "            output = model(image)\n",
    "\n",
    "            # break\n",
    "            loss = loss_fn(output, target)\n",
    "            loss.backward()\n",
    "\n",
    "            optimizer.step()\n",
    "            losses.append(loss.item())\n",
    "\n",
    "        viou = validation(model, vloader, loss_fn)\n",
    "        print('\\t'.join(np.stack(viou).mean(0).round(3).astype(str)))\n",
    "\n",
    "        print(raw_line.format(epoch, np.array(losses).mean(), np.mean(viou),\n",
    "                                  (time.time()-start_time)/60**1))    \n",
    "        if best_iou < np.stack(viou).mean(0).mean():\n",
    "            best_iou = np.stack(viou).mean(0).mean()\n",
    "            torch.save(model.state_dict(), 'model_{0}.pth'.format(fold_idx))\n",
    "            \n",
    "    break"
   ]
  },
  {
   "cell_type": "code",
   "execution_count": null,
   "metadata": {
    "ExecuteTime": {
     "end_time": "2021-01-30T00:56:45.692882Z",
     "start_time": "2021-01-30T00:49:29.745051Z"
    },
    "scrolled": true
   },
   "outputs": [],
   "source": [
    "trfm = T.Compose([\n",
    "    T.ToPILImage(),\n",
    "    T.Resize(IMAGE_SIZE),\n",
    "    T.ToTensor(),\n",
    "    T.Normalize([0.625, 0.448, 0.688],\n",
    "                [0.131, 0.177, 0.101]),\n",
    "])\n",
    "\n",
    "import segmentation_models_pytorch as smp\n",
    "model = smp.Unet(\n",
    "            encoder_name=\"resnet50\",        # choose encoder, e.g. mobilenet_v2 or efficientnet-b7\n",
    "            encoder_weights=\"imagenet\",     # use `imagenet` pretreined weights for encoder initialization\n",
    "            in_channels=3,                  # model input channels (1 for grayscale images, 3 for RGB, etc.)\n",
    "            classes=10,                      # model output channels (number of classes in your dataset)\n",
    "    )\n",
    "model.to(DEVICE);\n",
    "\n",
    "model.load_state_dict(torch.load(\"./model_0.pth\"))\n",
    "model.eval()\n",
    "\n",
    "\n",
    "for idx, name in enumerate(tqdm_notebook(glob.glob('./suichang_round1_test_partA_210120/*.tif')[:])):\n",
    "    image = cv2.imread(name)\n",
    "    image = trfm(image)\n",
    "    with torch.no_grad():\n",
    "        image = image.to(DEVICE)[None]\n",
    "        score1 = model(image).cpu().numpy()\n",
    "        \n",
    "        score2 = model(torch.flip(image, [0, 3]))\n",
    "#         score2 = score2.cpu().numpy()\n",
    "        score2 = torch.flip(score2, [3, 0]).cpu().numpy()\n",
    "\n",
    "        score3 = model(torch.flip(image, [0, 2]))\n",
    "#         score3 = score3.cpu().numpy()\n",
    "        score3 = torch.flip(score3, [2, 0]).cpu().numpy()\n",
    "        \n",
    "        score = (score1 + score2 + score3) / 3.0\n",
    "        \n",
    "        score_sigmoid = score[0].argmax(0) + 1\n",
    "#         score_sigmoid = (score_sigmoid > 0.5).astype(np.uint8)\n",
    "        \n",
    "#         plt.figure(figsize=(16,8))\n",
    "#         plt.subplot(151)\n",
    "#         plt.imshow((score1[0].argmax(0) + 1)*30, cmap='gray')\n",
    "#         plt.subplot(152)\n",
    "#         plt.imshow((score2[0].argmax(0) + 1)*30, cmap='gray')\n",
    "#         plt.subplot(153)\n",
    "#         plt.imshow((score3[0].argmax(0) + 1)*30, cmap='gray')\n",
    "#         plt.subplot(154)\n",
    "#         plt.imshow((score[0].argmax(0) + 1)*30, cmap='gray')\n",
    "#         plt.subplot(155)\n",
    "#         image = cv2.imread(name)\n",
    "#         plt.imshow(image);\n",
    "\n",
    "        # break\n",
    "        print(score_sigmoid.min(), score_sigmoid.max())\n",
    "        cv2.imwrite('results/' + name.split('/')[-1].replace('.tif', '.png'), score_sigmoid)\n",
    "    # break"
   ]
  },
  {
   "cell_type": "code",
   "execution_count": null,
   "metadata": {
    "ExecuteTime": {
     "end_time": "2021-01-29T15:48:54.039820Z",
     "start_time": "2021-01-29T15:48:54.033836Z"
    }
   },
   "outputs": [],
   "source": [
    "score.shape, score3.shape"
   ]
  },
  {
   "cell_type": "code",
   "execution_count": null,
   "metadata": {
    "ExecuteTime": {
     "end_time": "2021-01-30T01:07:14.984695Z",
     "start_time": "2021-01-30T01:07:14.391954Z"
    }
   },
   "outputs": [],
   "source": [
    "!zip -r results.zip results"
   ]
  },
  {
   "cell_type": "code",
   "execution_count": null,
   "metadata": {
    "ExecuteTime": {
     "end_time": "2021-01-29T03:06:09.996232Z",
     "start_time": "2021-01-29T03:06:09.949615Z"
    }
   },
   "outputs": [],
   "source": [
    "glob.glob('./suichang_round1_train_210120/*.tif')[:10]"
   ]
  },
  {
   "cell_type": "code",
   "execution_count": null,
   "metadata": {
    "ExecuteTime": {
     "end_time": "2021-01-29T03:06:34.017042Z",
     "start_time": "2021-01-29T03:06:34.009976Z"
    }
   },
   "outputs": [],
   "source": [
    "cv2.imread('suichang_round1_train_210120/008649.png').min()"
   ]
  },
  {
   "cell_type": "code",
   "execution_count": null,
   "metadata": {},
   "outputs": [],
   "source": []
  },
  {
   "cell_type": "code",
   "execution_count": null,
   "metadata": {},
   "outputs": [],
   "source": []
  },
  {
   "cell_type": "code",
   "execution_count": null,
   "metadata": {},
   "outputs": [],
   "source": []
  }
 ],
 "metadata": {
  "kernelspec": {
   "display_name": "Python 3",
   "language": "python",
   "name": "python3"
  },
  "language_info": {
   "codemirror_mode": {
    "name": "ipython",
    "version": 3
   },
   "file_extension": ".py",
   "mimetype": "text/x-python",
   "name": "python",
   "nbconvert_exporter": "python",
   "pygments_lexer": "ipython3",
   "version": "3.8.5"
  },
  "toc": {
   "base_numbering": 1,
   "nav_menu": {},
   "number_sections": true,
   "sideBar": true,
   "skip_h1_title": false,
   "title_cell": "Table of Contents",
   "title_sidebar": "Contents",
   "toc_cell": false,
   "toc_position": {},
   "toc_section_display": true,
   "toc_window_display": false
  }
 },
 "nbformat": 4,
 "nbformat_minor": 2
}
